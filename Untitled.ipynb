{
 "cells": [
  {
   "cell_type": "code",
   "execution_count": 1,
   "metadata": {},
   "outputs": [
    {
     "name": "stderr",
     "output_type": "stream",
     "text": [
      "Using TensorFlow backend.\n",
      "WARNING: Logging before flag parsing goes to stderr.\n",
      "W0825 20:58:21.534365 140328432133952 deprecation_wrapper.py:119] From /home/ec2-user/anaconda3/envs/tensorflow_p36/lib/python3.6/site-packages/keras/backend/tensorflow_backend.py:74: The name tf.get_default_graph is deprecated. Please use tf.compat.v1.get_default_graph instead.\n",
      "\n",
      "W0825 20:58:21.955462 140328432133952 deprecation_wrapper.py:119] From /home/ec2-user/anaconda3/envs/tensorflow_p36/lib/python3.6/site-packages/keras/backend/tensorflow_backend.py:517: The name tf.placeholder is deprecated. Please use tf.compat.v1.placeholder instead.\n",
      "\n",
      "W0825 20:58:22.096666 140328432133952 deprecation_wrapper.py:119] From /home/ec2-user/anaconda3/envs/tensorflow_p36/lib/python3.6/site-packages/keras/backend/tensorflow_backend.py:4185: The name tf.truncated_normal is deprecated. Please use tf.random.truncated_normal instead.\n",
      "\n",
      "W0825 20:58:22.287024 140328432133952 deprecation_wrapper.py:119] From /home/ec2-user/anaconda3/envs/tensorflow_p36/lib/python3.6/site-packages/keras/backend/tensorflow_backend.py:174: The name tf.get_default_session is deprecated. Please use tf.compat.v1.get_default_session instead.\n",
      "\n",
      "W0825 20:58:22.287755 140328432133952 deprecation_wrapper.py:119] From /home/ec2-user/anaconda3/envs/tensorflow_p36/lib/python3.6/site-packages/keras/backend/tensorflow_backend.py:181: The name tf.ConfigProto is deprecated. Please use tf.compat.v1.ConfigProto instead.\n",
      "\n",
      "W0825 20:59:19.829286 140328432133952 deprecation_wrapper.py:119] From /home/ec2-user/anaconda3/envs/tensorflow_p36/lib/python3.6/site-packages/keras/backend/tensorflow_backend.py:1834: The name tf.nn.fused_batch_norm is deprecated. Please use tf.compat.v1.nn.fused_batch_norm instead.\n",
      "\n",
      "W0825 20:59:19.973203 140328432133952 deprecation_wrapper.py:119] From /home/ec2-user/anaconda3/envs/tensorflow_p36/lib/python3.6/site-packages/keras/backend/tensorflow_backend.py:3976: The name tf.nn.max_pool is deprecated. Please use tf.nn.max_pool2d instead.\n",
      "\n",
      "/home/ec2-user/anaconda3/envs/tensorflow_p36/lib/python3.6/site-packages/keras_applications/resnet50.py:265: UserWarning: The output shape of `ResNet50(include_top=False)` has been changed since Keras 2.2.0.\n",
      "  warnings.warn('The output shape of `ResNet50(include_top=False)` '\n"
     ]
    },
    {
     "name": "stdout",
     "output_type": "stream",
     "text": [
      "Downloading data from https://github.com/fchollet/deep-learning-models/releases/download/v0.2/resnet50_weights_tf_dim_ordering_tf_kernels_notop.h5\n",
      "94658560/94653016 [==============================] - 5s 0us/step\n"
     ]
    }
   ],
   "source": [
    "from keras.applications.resnet50     import ResNet50\n",
    "model = ResNet50(include_top=False, weights='imagenet', \\\n",
    "                    input_tensor=None, input_shape=None, pooling=None, classes=1000)"
   ]
  },
  {
   "cell_type": "code",
   "execution_count": 3,
   "metadata": {},
   "outputs": [],
   "source": [
    "\n",
    "import time\n",
    "\n",
    "import numpy as np\n",
    "import tensorflow as tf\n",
    "from keras.layers import Input, Dense, AveragePooling2D, GlobalAveragePooling2D\n",
    "from keras import backend as K"
   ]
  },
  {
   "cell_type": "code",
   "execution_count": 4,
   "metadata": {},
   "outputs": [
    {
     "name": "stdout",
     "output_type": "stream",
     "text": [
      "Downloading data from https://www.cs.toronto.edu/~kriz/cifar-10-python.tar.gz\n",
      "170500096/170498071 [==============================] - 8s 0us/step\n",
      "(50000, 32, 32, 3) (50000,) (10000, 32, 32, 3) (10000,)\n"
     ]
    },
    {
     "data": {
      "text/plain": [
       "<Figure size 640x480 with 1 Axes>"
      ]
     },
     "metadata": {},
     "output_type": "display_data"
    }
   ],
   "source": [
    "n_classes = 10\n",
    "from keras.datasets import cifar10\n",
    "(X_train, y_train), (X_test, y_test) = cifar10.load_data()\n",
    "\n",
    "n_training = X_train.shape[0]\n",
    "n_testing = X_test.shape[0]\n",
    "\n",
    "y_train = y_train.flatten()\n",
    "y_test  = y_test.flatten()\n",
    "\n",
    "print( X_train.shape, y_train.shape,  X_test.shape, y_test.shape )\n",
    "\n",
    "from matplotlib import pyplot as plt\n",
    "plt.imshow( X_train[0]  )\n",
    "plt.show()"
   ]
  },
  {
   "cell_type": "code",
   "execution_count": 5,
   "metadata": {},
   "outputs": [],
   "source": [
    "from keras.models import Model"
   ]
  },
  {
   "cell_type": "code",
   "execution_count": 6,
   "metadata": {},
   "outputs": [],
   "source": [
    "input_shape = {\n",
    "    'incv3'   : (299,299,3),\n",
    "    'resnet50': (224,224,3),\n",
    "    'vgg16'   : (224,224,3),\n",
    "    'vgg19'   : (224,224,3)\n",
    "}['resnet50']"
   ]
  },
  {
   "cell_type": "code",
   "execution_count": 7,
   "metadata": {},
   "outputs": [],
   "source": [
    "def create_model_resnet50():\n",
    "    tf_input = Input(shape=input_shape)\n",
    "    base_model = ResNet50(input_tensor=tf_input, include_top=False)\n",
    "    x = base_model.output\n",
    "    x = GlobalAveragePooling2D()(x)\n",
    "    x = Dense(1024, activation='relu')(x)\n",
    "    predictions = Dense(n_classes, activation='softmax')(x)\n",
    "    model = Model(inputs=base_model.input, outputs=predictions)\n",
    "    return base_model, model"
   ]
  },
  {
   "cell_type": "code",
   "execution_count": 8,
   "metadata": {},
   "outputs": [],
   "source": [
    "batch_of_images_placeholder = tf.placeholder(\"uint8\", (None, 32, 32, 3))"
   ]
  },
  {
   "cell_type": "code",
   "execution_count": 9,
   "metadata": {},
   "outputs": [],
   "source": [
    "tf_resize_op = tf.image.resize_images(batch_of_images_placeholder, (input_shape[:2]), method=0)"
   ]
  },
  {
   "cell_type": "code",
   "execution_count": 10,
   "metadata": {},
   "outputs": [],
   "source": [
    "from keras.applications.resnet50     import preprocess_input as resnet50_preprocess_input"
   ]
  },
  {
   "cell_type": "code",
   "execution_count": 11,
   "metadata": {},
   "outputs": [],
   "source": [
    "preprocess_input = {\n",
    "  \n",
    "    'resnet50': resnet50_preprocess_input,\n",
    "\n",
    "}['resnet50']"
   ]
  },
  {
   "cell_type": "code",
   "execution_count": 12,
   "metadata": {},
   "outputs": [],
   "source": [
    "def data_generator(sess,data,labels):\n",
    "    def generator():\n",
    "        start = 0\n",
    "        end = start + 32\n",
    "        n = data.shape[0]\n",
    "        while True:\n",
    "            batch_of_images_resized = sess.run(tf_resize_op, {batch_of_images_placeholder: data[start:end]})\n",
    "            batch_of_images__preprocessed = preprocess_input(batch_of_images_resized)\n",
    "            batch_of_labels = labels[start:end]\n",
    "            \n",
    "            start += 32\n",
    "            end   += 32\n",
    "            if start >= n:\n",
    "                start = 0\n",
    "                end = 32\n",
    "            yield (batch_of_images__preprocessed, batch_of_labels)\n",
    "    return generator"
   ]
  },
  {
   "cell_type": "code",
   "execution_count": 13,
   "metadata": {},
   "outputs": [],
   "source": [
    "sess = tf.InteractiveSession()"
   ]
  },
  {
   "cell_type": "code",
   "execution_count": 14,
   "metadata": {},
   "outputs": [],
   "source": [
    "K.set_session(sess)\n",
    "K.set_learning_phase(1)"
   ]
  },
  {
   "cell_type": "code",
   "execution_count": 15,
   "metadata": {},
   "outputs": [
    {
     "name": "stderr",
     "output_type": "stream",
     "text": [
      "/home/ec2-user/anaconda3/envs/tensorflow_p36/lib/python3.6/site-packages/keras_applications/resnet50.py:265: UserWarning: The output shape of `ResNet50(include_top=False)` has been changed since Keras 2.2.0.\n",
      "  warnings.warn('The output shape of `ResNet50(include_top=False)` '\n"
     ]
    }
   ],
   "source": [
    "base_model, model = create_model_resnet50()"
   ]
  },
  {
   "cell_type": "code",
   "execution_count": 16,
   "metadata": {},
   "outputs": [
    {
     "name": "stdout",
     "output_type": "stream",
     "text": [
      "0 input_2\n",
      "1 conv1_pad\n",
      "2 conv1\n",
      "3 bn_conv1\n",
      "4 activation_50\n",
      "5 pool1_pad\n",
      "6 max_pooling2d_2\n",
      "7 res2a_branch2a\n",
      "8 bn2a_branch2a\n",
      "9 activation_51\n",
      "10 res2a_branch2b\n",
      "11 bn2a_branch2b\n",
      "12 activation_52\n",
      "13 res2a_branch2c\n",
      "14 res2a_branch1\n",
      "15 bn2a_branch2c\n",
      "16 bn2a_branch1\n",
      "17 add_17\n",
      "18 activation_53\n",
      "19 res2b_branch2a\n",
      "20 bn2b_branch2a\n",
      "21 activation_54\n",
      "22 res2b_branch2b\n",
      "23 bn2b_branch2b\n",
      "24 activation_55\n",
      "25 res2b_branch2c\n",
      "26 bn2b_branch2c\n",
      "27 add_18\n",
      "28 activation_56\n",
      "29 res2c_branch2a\n",
      "30 bn2c_branch2a\n",
      "31 activation_57\n",
      "32 res2c_branch2b\n",
      "33 bn2c_branch2b\n",
      "34 activation_58\n",
      "35 res2c_branch2c\n",
      "36 bn2c_branch2c\n",
      "37 add_19\n",
      "38 activation_59\n",
      "39 res3a_branch2a\n",
      "40 bn3a_branch2a\n",
      "41 activation_60\n",
      "42 res3a_branch2b\n",
      "43 bn3a_branch2b\n",
      "44 activation_61\n",
      "45 res3a_branch2c\n",
      "46 res3a_branch1\n",
      "47 bn3a_branch2c\n",
      "48 bn3a_branch1\n",
      "49 add_20\n",
      "50 activation_62\n",
      "51 res3b_branch2a\n",
      "52 bn3b_branch2a\n",
      "53 activation_63\n",
      "54 res3b_branch2b\n",
      "55 bn3b_branch2b\n",
      "56 activation_64\n",
      "57 res3b_branch2c\n",
      "58 bn3b_branch2c\n",
      "59 add_21\n",
      "60 activation_65\n",
      "61 res3c_branch2a\n",
      "62 bn3c_branch2a\n",
      "63 activation_66\n",
      "64 res3c_branch2b\n",
      "65 bn3c_branch2b\n",
      "66 activation_67\n",
      "67 res3c_branch2c\n",
      "68 bn3c_branch2c\n",
      "69 add_22\n",
      "70 activation_68\n",
      "71 res3d_branch2a\n",
      "72 bn3d_branch2a\n",
      "73 activation_69\n",
      "74 res3d_branch2b\n",
      "75 bn3d_branch2b\n",
      "76 activation_70\n",
      "77 res3d_branch2c\n",
      "78 bn3d_branch2c\n",
      "79 add_23\n",
      "80 activation_71\n",
      "81 res4a_branch2a\n",
      "82 bn4a_branch2a\n",
      "83 activation_72\n",
      "84 res4a_branch2b\n",
      "85 bn4a_branch2b\n",
      "86 activation_73\n",
      "87 res4a_branch2c\n",
      "88 res4a_branch1\n",
      "89 bn4a_branch2c\n",
      "90 bn4a_branch1\n",
      "91 add_24\n",
      "92 activation_74\n",
      "93 res4b_branch2a\n",
      "94 bn4b_branch2a\n",
      "95 activation_75\n",
      "96 res4b_branch2b\n",
      "97 bn4b_branch2b\n",
      "98 activation_76\n",
      "99 res4b_branch2c\n",
      "100 bn4b_branch2c\n",
      "101 add_25\n",
      "102 activation_77\n",
      "103 res4c_branch2a\n",
      "104 bn4c_branch2a\n",
      "105 activation_78\n",
      "106 res4c_branch2b\n",
      "107 bn4c_branch2b\n",
      "108 activation_79\n",
      "109 res4c_branch2c\n",
      "110 bn4c_branch2c\n",
      "111 add_26\n",
      "112 activation_80\n",
      "113 res4d_branch2a\n",
      "114 bn4d_branch2a\n",
      "115 activation_81\n",
      "116 res4d_branch2b\n",
      "117 bn4d_branch2b\n",
      "118 activation_82\n",
      "119 res4d_branch2c\n",
      "120 bn4d_branch2c\n",
      "121 add_27\n",
      "122 activation_83\n",
      "123 res4e_branch2a\n",
      "124 bn4e_branch2a\n",
      "125 activation_84\n",
      "126 res4e_branch2b\n",
      "127 bn4e_branch2b\n",
      "128 activation_85\n",
      "129 res4e_branch2c\n",
      "130 bn4e_branch2c\n",
      "131 add_28\n",
      "132 activation_86\n",
      "133 res4f_branch2a\n",
      "134 bn4f_branch2a\n",
      "135 activation_87\n",
      "136 res4f_branch2b\n",
      "137 bn4f_branch2b\n",
      "138 activation_88\n",
      "139 res4f_branch2c\n",
      "140 bn4f_branch2c\n",
      "141 add_29\n",
      "142 activation_89\n",
      "143 res5a_branch2a\n",
      "144 bn5a_branch2a\n",
      "145 activation_90\n",
      "146 res5a_branch2b\n",
      "147 bn5a_branch2b\n",
      "148 activation_91\n",
      "149 res5a_branch2c\n",
      "150 res5a_branch1\n",
      "151 bn5a_branch2c\n",
      "152 bn5a_branch1\n",
      "153 add_30\n",
      "154 activation_92\n",
      "155 res5b_branch2a\n",
      "156 bn5b_branch2a\n",
      "157 activation_93\n",
      "158 res5b_branch2b\n",
      "159 bn5b_branch2b\n",
      "160 activation_94\n",
      "161 res5b_branch2c\n",
      "162 bn5b_branch2c\n",
      "163 add_31\n",
      "164 activation_95\n",
      "165 res5c_branch2a\n",
      "166 bn5c_branch2a\n",
      "167 activation_96\n",
      "168 res5c_branch2b\n",
      "169 bn5c_branch2b\n",
      "170 activation_97\n",
      "171 res5c_branch2c\n",
      "172 bn5c_branch2c\n",
      "173 add_32\n",
      "174 activation_98\n"
     ]
    }
   ],
   "source": [
    "for i, layer in enumerate(base_model.layers):\n",
    "   print(i, layer.name)"
   ]
  },
  {
   "cell_type": "code",
   "execution_count": 17,
   "metadata": {},
   "outputs": [
    {
     "name": "stdout",
     "output_type": "stream",
     "text": [
      "0 input_2\n",
      "1 conv1_pad\n",
      "2 conv1\n",
      "3 bn_conv1\n",
      "4 activation_50\n",
      "5 pool1_pad\n",
      "6 max_pooling2d_2\n",
      "7 res2a_branch2a\n",
      "8 bn2a_branch2a\n",
      "9 activation_51\n",
      "10 res2a_branch2b\n",
      "11 bn2a_branch2b\n",
      "12 activation_52\n",
      "13 res2a_branch2c\n",
      "14 res2a_branch1\n",
      "15 bn2a_branch2c\n",
      "16 bn2a_branch1\n",
      "17 add_17\n",
      "18 activation_53\n",
      "19 res2b_branch2a\n",
      "20 bn2b_branch2a\n",
      "21 activation_54\n",
      "22 res2b_branch2b\n",
      "23 bn2b_branch2b\n",
      "24 activation_55\n",
      "25 res2b_branch2c\n",
      "26 bn2b_branch2c\n",
      "27 add_18\n",
      "28 activation_56\n",
      "29 res2c_branch2a\n",
      "30 bn2c_branch2a\n",
      "31 activation_57\n",
      "32 res2c_branch2b\n",
      "33 bn2c_branch2b\n",
      "34 activation_58\n",
      "35 res2c_branch2c\n",
      "36 bn2c_branch2c\n",
      "37 add_19\n",
      "38 activation_59\n",
      "39 res3a_branch2a\n",
      "40 bn3a_branch2a\n",
      "41 activation_60\n",
      "42 res3a_branch2b\n",
      "43 bn3a_branch2b\n",
      "44 activation_61\n",
      "45 res3a_branch2c\n",
      "46 res3a_branch1\n",
      "47 bn3a_branch2c\n",
      "48 bn3a_branch1\n",
      "49 add_20\n",
      "50 activation_62\n",
      "51 res3b_branch2a\n",
      "52 bn3b_branch2a\n",
      "53 activation_63\n",
      "54 res3b_branch2b\n",
      "55 bn3b_branch2b\n",
      "56 activation_64\n",
      "57 res3b_branch2c\n",
      "58 bn3b_branch2c\n",
      "59 add_21\n",
      "60 activation_65\n",
      "61 res3c_branch2a\n",
      "62 bn3c_branch2a\n",
      "63 activation_66\n",
      "64 res3c_branch2b\n",
      "65 bn3c_branch2b\n",
      "66 activation_67\n",
      "67 res3c_branch2c\n",
      "68 bn3c_branch2c\n",
      "69 add_22\n",
      "70 activation_68\n",
      "71 res3d_branch2a\n",
      "72 bn3d_branch2a\n",
      "73 activation_69\n",
      "74 res3d_branch2b\n",
      "75 bn3d_branch2b\n",
      "76 activation_70\n",
      "77 res3d_branch2c\n",
      "78 bn3d_branch2c\n",
      "79 add_23\n",
      "80 activation_71\n",
      "81 res4a_branch2a\n",
      "82 bn4a_branch2a\n",
      "83 activation_72\n",
      "84 res4a_branch2b\n",
      "85 bn4a_branch2b\n",
      "86 activation_73\n",
      "87 res4a_branch2c\n",
      "88 res4a_branch1\n",
      "89 bn4a_branch2c\n",
      "90 bn4a_branch1\n",
      "91 add_24\n",
      "92 activation_74\n",
      "93 res4b_branch2a\n",
      "94 bn4b_branch2a\n",
      "95 activation_75\n",
      "96 res4b_branch2b\n",
      "97 bn4b_branch2b\n",
      "98 activation_76\n",
      "99 res4b_branch2c\n",
      "100 bn4b_branch2c\n",
      "101 add_25\n",
      "102 activation_77\n",
      "103 res4c_branch2a\n",
      "104 bn4c_branch2a\n",
      "105 activation_78\n",
      "106 res4c_branch2b\n",
      "107 bn4c_branch2b\n",
      "108 activation_79\n",
      "109 res4c_branch2c\n",
      "110 bn4c_branch2c\n",
      "111 add_26\n",
      "112 activation_80\n",
      "113 res4d_branch2a\n",
      "114 bn4d_branch2a\n",
      "115 activation_81\n",
      "116 res4d_branch2b\n",
      "117 bn4d_branch2b\n",
      "118 activation_82\n",
      "119 res4d_branch2c\n",
      "120 bn4d_branch2c\n",
      "121 add_27\n",
      "122 activation_83\n",
      "123 res4e_branch2a\n",
      "124 bn4e_branch2a\n",
      "125 activation_84\n",
      "126 res4e_branch2b\n",
      "127 bn4e_branch2b\n",
      "128 activation_85\n",
      "129 res4e_branch2c\n",
      "130 bn4e_branch2c\n",
      "131 add_28\n",
      "132 activation_86\n",
      "133 res4f_branch2a\n",
      "134 bn4f_branch2a\n",
      "135 activation_87\n",
      "136 res4f_branch2b\n",
      "137 bn4f_branch2b\n",
      "138 activation_88\n",
      "139 res4f_branch2c\n",
      "140 bn4f_branch2c\n",
      "141 add_29\n",
      "142 activation_89\n",
      "143 res5a_branch2a\n",
      "144 bn5a_branch2a\n",
      "145 activation_90\n",
      "146 res5a_branch2b\n",
      "147 bn5a_branch2b\n",
      "148 activation_91\n",
      "149 res5a_branch2c\n",
      "150 res5a_branch1\n",
      "151 bn5a_branch2c\n",
      "152 bn5a_branch1\n",
      "153 add_30\n",
      "154 activation_92\n",
      "155 res5b_branch2a\n",
      "156 bn5b_branch2a\n",
      "157 activation_93\n",
      "158 res5b_branch2b\n",
      "159 bn5b_branch2b\n",
      "160 activation_94\n",
      "161 res5b_branch2c\n",
      "162 bn5b_branch2c\n",
      "163 add_31\n",
      "164 activation_95\n",
      "165 res5c_branch2a\n",
      "166 bn5c_branch2a\n",
      "167 activation_96\n",
      "168 res5c_branch2b\n",
      "169 bn5c_branch2b\n",
      "170 activation_97\n",
      "171 res5c_branch2c\n",
      "172 bn5c_branch2c\n",
      "173 add_32\n",
      "174 activation_98\n",
      "175 global_average_pooling2d_1\n",
      "176 dense_1\n",
      "177 dense_2\n"
     ]
    }
   ],
   "source": [
    "for i, layer in enumerate(model.layers):\n",
    "   print(i, layer.name)"
   ]
  },
  {
   "cell_type": "code",
   "execution_count": 26,
   "metadata": {},
   "outputs": [],
   "source": [
    "for layer in base_model.layers[:10]:\n",
    "    layer.trainable = True\n",
    "for layer in base_model.layers[10:]:\n",
    "    layer.trainable = False\n",
    "\n",
    "from keras.optimizers import Adam\n",
    "model.compile(optimizer=Adam(lr=1e-3), loss='categorical_crossentropy')"
   ]
  },
  {
   "cell_type": "code",
   "execution_count": 27,
   "metadata": {},
   "outputs": [],
   "source": [
    "y_train_one_hot = tf.one_hot( y_train, n_classes ).eval()"
   ]
  },
  {
   "cell_type": "code",
   "execution_count": 28,
   "metadata": {},
   "outputs": [],
   "source": [
    "data_train_gen = data_generator(sess, X_train, y_train_one_hot )"
   ]
  },
  {
   "cell_type": "code",
   "execution_count": 29,
   "metadata": {},
   "outputs": [
    {
     "name": "stdout",
     "output_type": "stream",
     "text": [
      "Epoch 1/20\n",
      "1563/1562 [==============================] - 832s 532ms/step - loss: 0.1777\n",
      "Epoch 2/20\n",
      "1563/1562 [==============================] - 831s 532ms/step - loss: 0.1387\n",
      "Epoch 3/20\n",
      "1563/1562 [==============================] - 831s 532ms/step - loss: 0.1202\n",
      "Epoch 4/20\n",
      "1563/1562 [==============================] - 831s 532ms/step - loss: 0.1081\n",
      "Epoch 5/20\n",
      "1563/1562 [==============================] - 831s 532ms/step - loss: 0.1045\n",
      "Epoch 6/20\n",
      "1563/1562 [==============================] - 831s 532ms/step - loss: 0.0980\n",
      "Epoch 7/20\n",
      "1563/1562 [==============================] - 831s 532ms/step - loss: 0.0856\n",
      "Epoch 8/20\n",
      "1563/1562 [==============================] - 832s 532ms/step - loss: 0.0848\n",
      "Epoch 9/20\n",
      "1563/1562 [==============================] - 831s 532ms/step - loss: 0.0787\n",
      "Epoch 10/20\n",
      "1563/1562 [==============================] - 831s 532ms/step - loss: 0.0697\n",
      "Epoch 11/20\n",
      "1563/1562 [==============================] - 831s 532ms/step - loss: 0.0674\n",
      "Epoch 12/20\n",
      "1563/1562 [==============================] - 831s 532ms/step - loss: 0.0740\n",
      "Epoch 13/20\n",
      "1563/1562 [==============================] - 831s 532ms/step - loss: 0.0579\n",
      "Epoch 14/20\n",
      "1563/1562 [==============================] - 831s 532ms/step - loss: 0.0678\n",
      "Epoch 15/20\n",
      "1563/1562 [==============================] - 831s 532ms/step - loss: 0.0542\n",
      "Epoch 16/20\n",
      "1563/1562 [==============================] - 831s 532ms/step - loss: 0.0586\n",
      "Epoch 17/20\n",
      "1563/1562 [==============================] - 832s 532ms/step - loss: 0.0545\n",
      "Epoch 18/20\n",
      "1563/1562 [==============================] - 832s 532ms/step - loss: 0.0548\n",
      "Epoch 19/20\n",
      "1563/1562 [==============================] - 831s 532ms/step - loss: 0.0476\n",
      "Epoch 20/20\n",
      "1563/1562 [==============================] - 832s 532ms/step - loss: 0.0529\n"
     ]
    },
    {
     "data": {
      "text/plain": [
       "<keras.callbacks.History at 0x7f9f76e887b8>"
      ]
     },
     "execution_count": 29,
     "metadata": {},
     "output_type": "execute_result"
    }
   ],
   "source": [
    "model.fit_generator(data_train_gen(), n_training/32, verbose=1, epochs=20)"
   ]
  },
  {
   "cell_type": "code",
   "execution_count": 30,
   "metadata": {},
   "outputs": [],
   "source": [
    "images_resized = sess.run(tf_resize_op, {batch_of_images_placeholder: X_test})\n",
    "images = preprocess_input(images_resized)"
   ]
  },
  {
   "cell_type": "code",
   "execution_count": 31,
   "metadata": {},
   "outputs": [
    {
     "name": "stdout",
     "output_type": "stream",
     "text": [
      "10000/10000 [==============================] - 78s 8ms/step\n"
     ]
    }
   ],
   "source": [
    "result = model.predict(images, verbose=1)"
   ]
  },
  {
   "cell_type": "code",
   "execution_count": 32,
   "metadata": {},
   "outputs": [],
   "source": [
    "y_pred = [ np.argmax( result[i] ) for i in range(n_testing) ]"
   ]
  },
  {
   "cell_type": "code",
   "execution_count": 33,
   "metadata": {},
   "outputs": [
    {
     "data": {
      "text/plain": [
       "0.8777"
      ]
     },
     "execution_count": 33,
     "metadata": {},
     "output_type": "execute_result"
    }
   ],
   "source": [
    "np.sum( y_pred == y_test ) / n_testing"
   ]
  },
  {
   "cell_type": "code",
   "execution_count": null,
   "metadata": {},
   "outputs": [],
   "source": []
  }
 ],
 "metadata": {
  "kernelspec": {
   "display_name": "Environment (conda_tensorflow_p36)",
   "language": "python",
   "name": "conda_tensorflow_p36"
  },
  "language_info": {
   "codemirror_mode": {
    "name": "ipython",
    "version": 3
   },
   "file_extension": ".py",
   "mimetype": "text/x-python",
   "name": "python",
   "nbconvert_exporter": "python",
   "pygments_lexer": "ipython3",
   "version": "3.6.5"
  }
 },
 "nbformat": 4,
 "nbformat_minor": 2
}
